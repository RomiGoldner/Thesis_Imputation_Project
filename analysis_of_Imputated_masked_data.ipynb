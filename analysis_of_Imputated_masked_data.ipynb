{
  "nbformat": 4,
  "nbformat_minor": 0,
  "metadata": {
    "colab": {
      "name": "analysis_of_Imputated_masked_data.ipynb",
      "provenance": [],
      "collapsed_sections": [],
      "machine_shape": "hm"
    },
    "kernelspec": {
      "display_name": "Python 3",
      "name": "python3"
    },
    "language_info": {
      "name": "python"
    },
    "accelerator": "GPU"
  },
  "cells": [
    {
      "cell_type": "markdown",
      "metadata": {
        "id": "I5-3SxCgYgcW"
      },
      "source": [
        "\n",
        "\n",
        "This is the code will analyze the imputation results on the masked data."
      ]
    },
    {
      "cell_type": "code",
      "metadata": {
        "colab": {
          "base_uri": "https://localhost:8080/"
        },
        "id": "CVkIwEideMXF",
        "outputId": "f7bb65f1-194f-4931-9c42-80d251330103"
      },
      "source": [
        "from google.colab import drive\n",
        "drive.mount('/content/drive')"
      ],
      "execution_count": 2,
      "outputs": [
        {
          "output_type": "stream",
          "name": "stdout",
          "text": [
            "Drive already mounted at /content/drive; to attempt to forcibly remount, call drive.mount(\"/content/drive\", force_remount=True).\n"
          ]
        }
      ]
    },
    {
      "cell_type": "code",
      "metadata": {
        "id": "HI94AKv5eaDB"
      },
      "source": [
        "import pandas\n",
        "from pandas.core.frame import DataFrame\n",
        "import numpy as np"
      ],
      "execution_count": 3,
      "outputs": []
    },
    {
      "cell_type": "markdown",
      "metadata": {
        "id": "BSxUSp0EYvY_"
      },
      "source": [
        "This next code will check the indices where the masked data is different than the original data on the imputated data counts (using results from the desired imputation technique). We want to see how well the imputation restored the places that were randomly masked. "
      ]
    },
    {
      "cell_type": "markdown",
      "metadata": {
        "id": "9EBzWyrGAqrG"
      },
      "source": [
        "## Read Prepare Data"
      ]
    },
    {
      "cell_type": "code",
      "metadata": {
        "id": "EQynFzcvZGmh"
      },
      "source": [
        "# read counts of original and masked data\n",
        "original_counts = pandas.read_csv('/content/drive/MyDrive/Gene_expression_counts_surprot_data.csv')\n",
        "masked_counts = pandas.read_csv('/content/drive/MyDrive/masked_surprot_counts.csv')"
      ],
      "execution_count": 6,
      "outputs": []
    },
    {
      "cell_type": "code",
      "metadata": {
        "id": "Q_Ouqvm3W_6h"
      },
      "source": [
        "original_counts = original_counts.set_index('Unnamed: 0')\n",
        "masked_counts = masked_counts.set_index('Unnamed: 0')"
      ],
      "execution_count": 7,
      "outputs": []
    },
    {
      "cell_type": "code",
      "metadata": {
        "id": "kQ7J01r0gq8Y"
      },
      "source": [
        "# convert to numpy\n",
        "original_counts_np = original_counts.to_numpy()\n",
        "masked_counts_np = masked_counts.to_numpy()"
      ],
      "execution_count": 8,
      "outputs": []
    },
    {
      "cell_type": "code",
      "metadata": {
        "id": "x_qNXnO3Nqbw"
      },
      "source": [
        "masked_counts_tran = masked_counts.transpose()"
      ],
      "execution_count": 9,
      "outputs": []
    },
    {
      "cell_type": "code",
      "metadata": {
        "id": "6NXCElpxcG6l"
      },
      "source": [
        "# Upload DeepImpute results \n",
        "masked_counts_imputed = pandas.read_csv('/content/drive/MyDrive/masked_counts_deepimpute.csv')\n",
        "# to uplaod imputed counts by MAGIC uncomment the line below\n",
        "# masked_counts_imputed = pandas.read_csv('/content/drive/MyDrive/masked_counts_MAGIC.csv')"
      ],
      "execution_count": 10,
      "outputs": []
    },
    {
      "cell_type": "code",
      "metadata": {
        "id": "IsSadAhmXZuN"
      },
      "source": [
        "masked_counts_imputed = masked_counts_imputed.set_index('Unnamed: 0')"
      ],
      "execution_count": 12,
      "outputs": []
    },
    {
      "cell_type": "code",
      "metadata": {
        "id": "hfOJGvYXkrcP"
      },
      "source": [
        "masked_counts_imputed = masked_counts_imputed.transpose()"
      ],
      "execution_count": 13,
      "outputs": []
    },
    {
      "cell_type": "code",
      "metadata": {
        "id": "8GENtOPmj9sN"
      },
      "source": [
        "# convert to numpy\n",
        "masked_counts_imputed_np = masked_counts_imputed.to_numpy()"
      ],
      "execution_count": 14,
      "outputs": []
    },
    {
      "cell_type": "markdown",
      "metadata": {
        "id": "9yXDOKImAyps"
      },
      "source": [
        "## Data Analysis"
      ]
    },
    {
      "cell_type": "code",
      "metadata": {
        "id": "Wz6mgBANXXOf"
      },
      "source": [
        "# extract indices where original data was masked\n",
        "not_equal_idx = np.where(np.not_equal(original_counts, masked_counts))\n",
        "not_equal_idx[0].shape"
      ],
      "execution_count": 15,
      "outputs": []
    },
    {
      "cell_type": "code",
      "metadata": {
        "id": "-SfbhJOeaPAb"
      },
      "source": [
        "# extract original, masked and imputed values at masked indices\n",
        "orig_vals_at_dif_idx = original_counts_np[not_equal_idx[0], not_equal_idx[1]]\n",
        "masked_vals_at_dif_idx = masked_counts_np[not_equal_idx[0], not_equal_idx[1]]\n",
        "masked_imputed_vals_at_dif_idx = masked_counts_imputed_np[not_equal_idx[0], not_equal_idx[1]]"
      ],
      "execution_count": 17,
      "outputs": []
    },
    {
      "cell_type": "code",
      "metadata": {
        "colab": {
          "base_uri": "https://localhost:8080/",
          "height": 738
        },
        "id": "Kz7erWPuDeRp",
        "outputId": "84fd5b71-a589-4691-b12e-9adab80266fb"
      },
      "source": [
        "# Generate plot of original vs. imputed values at masked indices\n",
        "import seaborn as sns\n",
        "orig_vals_at_dif_idx.shape\n",
        "sns.relplot(\n",
        "    x=np.arange(orig_vals_at_dif_idx.shape[0]),\n",
        "    y=orig_vals_at_dif_idx,\n",
        "    hue=orig_vals_at_dif_idx==0,\n",
        "    kind='line',\n",
        "    ci=None,\n",
        ")\n",
        "\n",
        "sns.relplot(\n",
        "    x=np.arange(masked_imputed_vals_at_dif_idx.shape[0]),\n",
        "    y=masked_imputed_vals_at_dif_idx,\n",
        "    hue=masked_imputed_vals_at_dif_idx==0,\n",
        "    kind='line',\n",
        "    ci=None,\n",
        ")"
      ],
      "execution_count": 47,
      "outputs": [
        {
          "output_type": "execute_result",
          "data": {
            "text/plain": [
              "<seaborn.axisgrid.FacetGrid at 0x7fbab15367d0>"
            ]
          },
          "metadata": {},
          "execution_count": 47
        },
        {
          "output_type": "display_data",
          "data": {
            "image/png": "[encoded data removed]",
            "text/plain": [
              "<Figure size 421.25x360 with 1 Axes>"
            ]
          },
          "metadata": {
            "needs_background": "light"
          }
        },
        {
          "output_type": "display_data",
          "data": {
            "image/png": "[encoded data removed]",
            "text/plain": [
              "<Figure size 421.25x360 with 1 Axes>"
            ]
          },
          "metadata": {
            "needs_background": "light"
          }
        }
      ]
    },
    {
      "cell_type": "code",
      "metadata": {
        "id": "LvfdRVos9elm"
      },
      "source": [
        "def rmsd(vec1, vec2):\n",
        "  return np.sqrt(np.mean(np.power((vec1 - vec2),2)))"
      ],
      "execution_count": 21,
      "outputs": []
    },
    {
      "cell_type": "code",
      "metadata": {
        "colab": {
          "base_uri": "https://localhost:8080/"
        },
        "id": "6cue9fX9_axt",
        "outputId": "35633a78-1ff8-498b-a50c-f9db74f89164"
      },
      "source": [
        "print(\"orig to masked RMSD\", rmsd(orig_vals_at_dif_idx, masked_vals_at_dif_idx))\n",
        "print(\"orig to imputed RMSD\", rmsd(orig_vals_at_dif_idx, masked_imputed_vals_at_dif_idx))\n",
        "print(\"percent masked vals still zero after impute\", \n",
        "      f\"{(sum(masked_imputed_vals_at_dif_idx == 0) / len(masked_imputed_vals_at_dif_idx))*100:.2f}%\")"
      ],
      "execution_count": 22,
      "outputs": [
        {
          "output_type": "stream",
          "name": "stdout",
          "text": [
            "orig to masked RMSD 20.816267222695668\n",
            "orig to imputed RMSD 18.848118351867008\n",
            "percent masked vals still zero after impute 54.69%\n"
          ]
        }
      ]
    },
    {
      "cell_type": "code",
      "metadata": {
        "colab": {
          "base_uri": "https://localhost:8080/"
        },
        "id": "W_3Rgu5yIGi0",
        "outputId": "4fd1cc01-51a9-401f-c89d-660af85ee0de"
      },
      "source": [
        "equal_idx = np.where(np.equal(original_counts, masked_counts))\n",
        "nonmasked_imputed_vals_at_dif_idx = masked_counts_imputed_np[equal_idx[0], equal_idx[1]]\n",
        "nonmasked_orig_vals_at_dif_idx = original_counts_np[equal_idx[0], equal_idx[1]]\n",
        "\n",
        "import torch\n",
        "nonmasked_imputed_vals_at_dif_idx = torch.from_numpy(nonmasked_imputed_vals_at_dif_idx).cuda()\n",
        "nonmasked_orig_vals_at_dif_idx = torch.from_numpy(nonmasked_orig_vals_at_dif_idx).cuda()\n",
        "\n",
        "print(\"How many zeros we had before imputation in nonmasked data (percent):\", \n",
        "      f\"{((nonmasked_orig_vals_at_dif_idx == 0).sum() / len(nonmasked_orig_vals_at_dif_idx))*100:.2f}%\")\n",
        "print(\"How many zeros we still have after imputation in nonmasked data (percent):\", \n",
        "      f\"{((nonmasked_imputed_vals_at_dif_idx == 0).sum() / len(nonmasked_imputed_vals_at_dif_idx))*100:.2f}%\")\n"
      ],
      "execution_count": 23,
      "outputs": [
        {
          "output_type": "stream",
          "name": "stdout",
          "text": [
            "How many zeros we had before imputation in nonmasked data (percent): 95.73%\n",
            "How many zeros we still have after imputation in nonmasked data (percent): 91.87%\n"
          ]
        }
      ]
    }
  ]
}