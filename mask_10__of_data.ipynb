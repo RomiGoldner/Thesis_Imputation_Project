{
  "nbformat": 4,
  "nbformat_minor": 0,
  "metadata": {
    "colab": {
      "name": "mask_10%_of_data.ipynb",
      "provenance": [],
      "collapsed_sections": [],
      "machine_shape": "hm"
    },
    "kernelspec": {
      "display_name": "Python 3",
      "name": "python3"
    },
    "language_info": {
      "name": "python"
    },
    "accelerator": "GPU"
  },
  "cells": [
    {
      "cell_type": "markdown",
      "metadata": {
        "id": "I5-3SxCgYgcW"
      },
      "source": [
        "This is the code to mask 10% of the indices of the original counts."
      ]
    },
    {
      "cell_type": "code",
      "metadata": {
        "id": "CVkIwEideMXF"
      },
      "source": [
        "from google.colab import drive\n",
        "drive.mount('/content/drive')"
      ],
      "execution_count": null,
      "outputs": []
    },
    {
      "cell_type": "code",
      "metadata": {
        "id": "HI94AKv5eaDB"
      },
      "source": [
        "import pandas\n",
        "from pandas.core.frame import DataFrame\n",
        "import numpy as np"
      ],
      "execution_count": 2,
      "outputs": []
    },
    {
      "cell_type": "code",
      "metadata": {
        "id": "-Ydkx8YDelX-"
      },
      "source": [
        "# convert to DataFrame\n",
        "df = pandas.read_csv('/content/drive/MyDrive/Gene_expression_counts_surprot_data.csv')\n",
        "df = DataFrame(df)\n",
        "df = df.set_index('Unnamed: 0')"
      ],
      "execution_count": null,
      "outputs": []
    },
    {
      "cell_type": "code",
      "metadata": {
        "id": "KVPQtYHq2BjM"
      },
      "source": [
        "# look at dataframe\n",
        "df"
      ],
      "execution_count": null,
      "outputs": []
    },
    {
      "cell_type": "code",
      "metadata": {
        "id": "kJujyLqGfMr-"
      },
      "source": [
        "# convert data frame to numpy array\n",
        "df_np = df.to_numpy()\n",
        "df_np"
      ],
      "execution_count": null,
      "outputs": []
    },
    {
      "cell_type": "code",
      "metadata": {
        "id": "FZK0AvUE1NVc"
      },
      "source": [
        "df_np.shape"
      ],
      "execution_count": null,
      "outputs": []
    },
    {
      "cell_type": "code",
      "metadata": {
        "id": "Zt3QUbl8pGku"
      },
      "source": [
        "# extract index where dataframe is not zero\n",
        "index_list = np.argwhere(df_np > 0)"
      ],
      "execution_count": null,
      "outputs": []
    },
    {
      "cell_type": "code",
      "metadata": {
        "id": "JcyCFP6g8aiU"
      },
      "source": [
        "# take a look at one index from the above index list\n",
        "df_np[33535,  7857]"
      ],
      "execution_count": null,
      "outputs": []
    },
    {
      "cell_type": "code",
      "metadata": {
        "id": "rBFFBbJo3W2o"
      },
      "source": [
        "# shuffle nonzero index list\n",
        "np.random.shuffle(index_list)\n",
        "index_list"
      ],
      "execution_count": null,
      "outputs": []
    },
    {
      "cell_type": "code",
      "metadata": {
        "id": "mNKjzk2J30YX"
      },
      "source": [
        "# take 10% of list\n",
        "ten_percent_length = len(index_list)*(0.1)"
      ],
      "execution_count": null,
      "outputs": []
    },
    {
      "cell_type": "code",
      "metadata": {
        "id": "0RYJ3mim4TnG"
      },
      "source": [
        "index_list_to_change = index_list[0:round(ten_percent_length)]\n",
        "index_list_to_change, index_list_to_change.shape"
      ],
      "execution_count": null,
      "outputs": []
    },
    {
      "cell_type": "code",
      "metadata": {
        "id": "gj-aXf5yV6bc"
      },
      "source": [
        "# mask 10% of values in dataframe\n",
        "df_np_masked = df_np.copy()\n",
        "df_np_masked[index_list_to_change[:, 0], \n",
        "             index_list_to_change[:, 1]] = 0"
      ],
      "execution_count": null,
      "outputs": []
    },
    {
      "cell_type": "code",
      "metadata": {
        "id": "8ncz2CHcmYHV"
      },
      "source": [
        "df_masked = df_np_masked"
      ],
      "execution_count": null,
      "outputs": []
    },
    {
      "cell_type": "code",
      "metadata": {
        "id": "8hSiGwdJ9TzV"
      },
      "source": [
        "# check masked data at index\n",
        "df_masked[24768,  1224]"
      ],
      "execution_count": null,
      "outputs": []
    },
    {
      "cell_type": "code",
      "metadata": {
        "id": "9ZE8R6db9ZWD"
      },
      "source": [
        "# check that 90% of the data was not masked\n",
        "np.argwhere(df_masked > 0).shape[0] / index_list.shape[0]"
      ],
      "execution_count": null,
      "outputs": []
    },
    {
      "cell_type": "code",
      "metadata": {
        "id": "RUlqMZwT-bCv"
      },
      "source": [
        "DataFrame(df_masked)"
      ],
      "execution_count": null,
      "outputs": []
    },
    {
      "cell_type": "code",
      "metadata": {
        "id": "3SG4_aEt6KfE"
      },
      "source": [
        "df_orig = pandas.read_csv('/content/drive/MyDrive/Gene_expression_counts_surprot_data.csv')"
      ],
      "execution_count": null,
      "outputs": []
    },
    {
      "cell_type": "code",
      "metadata": {
        "id": "xNHYvc6h_tm1"
      },
      "source": [
        "df_orig = DataFrame(df_orig)\n",
        "df_orig = df_orig.set_index('Unnamed: 0')"
      ],
      "execution_count": null,
      "outputs": []
    },
    {
      "cell_type": "code",
      "metadata": {
        "id": "jpL7TFET71oV"
      },
      "source": [
        "rownames = df_orig.index\n",
        "rownames_list = list(rownames)\n",
        "column_names_list = list(df_orig.columns)"
      ],
      "execution_count": null,
      "outputs": []
    },
    {
      "cell_type": "code",
      "metadata": {
        "id": "-iTMitMuAj2S"
      },
      "source": [
        "# add cell and genes names to rows and columns \n",
        "df_masked = DataFrame(df_masked).set_axis(rownames_list, axis=0)\n",
        "df_masked = DataFrame(df_masked).set_axis(column_names_list, axis=1)"
      ],
      "execution_count": null,
      "outputs": []
    },
    {
      "cell_type": "code",
      "metadata": {
        "id": "LSGKo9CEBZI5"
      },
      "source": [
        "# export masked counts to drive\n",
        "df_masked.to_csv('/content/drive/MyDrive/masked.csv')"
      ],
      "execution_count": null,
      "outputs": []
    }
  ]
}